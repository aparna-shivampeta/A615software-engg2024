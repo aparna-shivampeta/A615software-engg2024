{
  "nbformat": 4,
  "nbformat_minor": 0,
  "metadata": {
    "colab": {
      "provenance": [],
      "authorship_tag": "ABX9TyO3VI/bmfF7ny4JGDzRdVVt",
      "include_colab_link": true
    },
    "kernelspec": {
      "name": "python3",
      "display_name": "Python 3"
    },
    "language_info": {
      "name": "python"
    }
  },
  "cells": [
    {
      "cell_type": "markdown",
      "metadata": {
        "id": "view-in-github",
        "colab_type": "text"
      },
      "source": [
        "<a href=\"https://colab.research.google.com/github/aparna-shivampeta/A615software-engg2024/blob/main/1.ipynb\" target=\"_parent\"><img src=\"https://colab.research.google.com/assets/colab-badge.svg\" alt=\"Open In Colab\"/></a>"
      ]
    },
    {
      "cell_type": "code",
      "execution_count": null,
      "metadata": {
        "id": "h-kLTWtWxxhT"
      },
      "outputs": [],
      "source": [
        "this is my first program"
      ]
    },
    {
      "cell_type": "markdown",
      "source": [],
      "metadata": {
        "id": "jo9klJkSB9rw"
      }
    },
    {
      "cell_type": "code",
      "source": [],
      "metadata": {
        "id": "9lMkldtGx5k3"
      },
      "execution_count": null,
      "outputs": []
    },
    {
      "cell_type": "markdown",
      "source": [
        "this is my first program in software engineering lab\n"
      ],
      "metadata": {
        "id": "9b8iVzH6xyeD"
      }
    }
  ]
}